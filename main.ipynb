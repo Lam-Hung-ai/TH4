{
 "cells": [
  {
   "cell_type": "markdown",
   "id": "3f5ac739",
   "metadata": {},
   "source": [
    "## Mục lục\n",
    "### 1. Chuyển classical music dạng .mid sang dạng .wav\n",
    "### 2. Đọc phổ âm thanh"
   ]
  },
  {
   "cell_type": "code",
   "execution_count": null,
   "id": "70635d24",
   "metadata": {},
   "outputs": [],
   "source": []
  },
  {
   "cell_type": "markdown",
   "id": "80ee41ba",
   "metadata": {},
   "source": [
    "### 1. Chuyển classical music dạng .mid sang dạng .wav"
   ]
  },
  {
   "cell_type": "code",
   "execution_count": 1,
   "id": "f4bc7c3b",
   "metadata": {},
   "outputs": [],
   "source": [
    "import pretty_midi\n",
    "import soundfile as sf\n",
    "import os\n",
    "import librosa\n",
    "import numpy as np\n",
    "from scipy.fft import fft, fftfreq\n",
    "import matplotlib.pyplot as plt"
   ]
  },
  {
   "cell_type": "code",
   "execution_count": 2,
   "id": "144dd564",
   "metadata": {},
   "outputs": [],
   "source": [
    "os.makedirs(\"songs\", exist_ok=True)\n",
    "os.makedirs(\"songs/classical_mussic\", exist_ok=True)\n",
    "os.makedirs(\"songs/edm_mussic\", exist_ok=True)\n",
    "classsical_midi_files = [\n",
    "    \"classical_mussic/albeniz/alb_esp1.mid\",\n",
    "    \"classical_mussic/bach/bach_846.mid\",\n",
    "    \"classical_mussic/mozart/mz_311_3.mid\",\n",
    "    \"classical_mussic/grieg/grieg_album.mid\",\n",
    "    \"classical_mussic/brahms/br_im2.mid\"\n",
    "    ]\n",
    "for file in classsical_midi_files:\n",
    "    midi_data_classical = pretty_midi.PrettyMIDI(file)\n",
    "    audio_data_classical = midi_data_classical.synthesize(fs=44100)\n",
    "    sf.write(\"songs/classical_mussic\"+file[file.rfind('/'):file.rfind(\".\")]+\".wav\", audio_data_classical, 44100)"
   ]
  },
  {
   "cell_type": "markdown",
   "id": "93681acd",
   "metadata": {},
   "source": [
    "### 2. Đọc phổ âm thanh"
   ]
  },
  {
   "cell_type": "code",
   "execution_count": 3,
   "id": "f8ace70f",
   "metadata": {},
   "outputs": [],
   "source": [
    "def phan_tich_va_luu_pho_am_thanh(\n",
    "    file_path: str,\n",
    "    save_dir: str,\n",
    "    offset_seconds: float = 0.0,\n",
    "    duration_seconds: float = 5.0,\n",
    "    plot_title_prefix: str = \"Phổ âm thanh\"\n",
    "):\n",
    "    \"\"\"\n",
    "    Phân tích phổ Fourier của một đoạn âm thanh từ file và lưu biểu đồ.\n",
    "\n",
    "    Args:\n",
    "        file_path (str): Đường dẫn đến file âm thanh (WAV, MP3, v.v.).\n",
    "        save_dir (str): Thư mục để lưu biểu đồ phổ âm thanh.\n",
    "        offset_seconds (float): Thời điểm bắt đầu (tính bằng giây) của đoạn âm thanh cần phân tích.\n",
    "                                Mặc định là 0.0 (bắt đầu file).\n",
    "        duration_seconds (float): Độ dài (tính bằng giây) của đoạn âm thanh cần phân tích.\n",
    "                                  Mặc định là 5.0 giây.\n",
    "        plot_title_prefix (str): Tiền tố cho tiêu đề của biểu đồ.\n",
    "    \"\"\"\n",
    "    try:\n",
    "        # 1. Tải đoạn âm thanh với sampling rate gốc\n",
    "        audio_segment, samplerate = librosa.load(\n",
    "            file_path,\n",
    "            sr=None,\n",
    "            offset=offset_seconds,\n",
    "            duration=duration_seconds\n",
    "        )\n",
    "\n",
    "        # Kiểm tra nếu đoạn âm thanh không hợp lệ hoặc rỗng\n",
    "        if audio_segment.size == 0:\n",
    "            print(f\"Lỗi: Không thể tải hoặc đoạn âm thanh rỗng từ '{file_path}' \"\n",
    "                  f\"với offset={offset_seconds}s, duration={duration_seconds}s.\")\n",
    "            return\n",
    "\n",
    "        # 2. Thực hiện biến đổi Fourier (FFT)\n",
    "        N = len(audio_segment)\n",
    "        yf = fft(audio_segment)                      # Tín hiệu sau FFT (dạng phức)\n",
    "        xf = fftfreq(N, 1 / samplerate)              # Trục tần số\n",
    "\n",
    "        # Chỉ lấy phần tần số dương\n",
    "        positive_xf = xf[:N//2]\n",
    "        amplitude_dB = 20 * np.log10(np.abs(yf[:N//2]) + 1e-9)  # Biên độ theo đơn vị dB\n",
    "\n",
    "        # 3. Tạo biểu đồ phổ tần số\n",
    "        plt.figure(figsize=(10, 5))\n",
    "        plt.plot(positive_xf, amplitude_dB)\n",
    "        \n",
    "        title = f\"{plot_title_prefix} - {os.path.basename(file_path)}\\n\" \\\n",
    "                f\"(Từ {offset_seconds:.1f}s - {offset_seconds + duration_seconds:.1f}s, SR: {samplerate} Hz)\"\n",
    "        plt.title(title)\n",
    "        plt.xlabel(\"Tần số (Hz)\")\n",
    "        plt.ylabel(\"Biên độ (dB)\")\n",
    "        plt.grid(True)\n",
    "        plt.xlim(0, min(20000, samplerate / 2))  # Giới hạn hiển thị tới 20kHz hoặc Nyquist\n",
    "        plt.tight_layout()\n",
    "\n",
    "        # 4. Lưu biểu đồ\n",
    "        os.makedirs(save_dir, exist_ok=True)\n",
    "        base_filename = os.path.splitext(os.path.basename(file_path))[0]\n",
    "        save_filename = f\"spectrum_{base_filename}_offset{offset_seconds:.0f}s_dur{duration_seconds:.0f}s.png\"\n",
    "        plot_save_path = os.path.join(save_dir, save_filename)\n",
    "\n",
    "        plt.savefig(plot_save_path)\n",
    "        plt.close()  # Giải phóng bộ nhớ sau khi vẽ\n",
    "        print(f\"Đã lưu biểu đồ phổ âm thanh tại: {plot_save_path}\")\n",
    "\n",
    "    except FileNotFoundError:\n",
    "        print(f\"Lỗi: Không tìm thấy file âm thanh tại '{file_path}'\")\n",
    "    except Exception as e:\n",
    "        print(f\"Lỗi không xác định khi xử lý file '{file_path}': {e}\")\n",
    "        if plt.get_fignums():\n",
    "            plt.close()"
   ]
  },
  {
   "cell_type": "code",
   "execution_count": 4,
   "id": "c4e913f8",
   "metadata": {},
   "outputs": [
    {
     "name": "stdout",
     "output_type": "stream",
     "text": [
      "Đã lưu biểu đồ phổ âm thanh tại: bieu_do_pho_am_thanh/classical_mussic/spectrum_mz_311_3_offset30s_dur3s.png\n",
      "Đã lưu biểu đồ phổ âm thanh tại: bieu_do_pho_am_thanh/classical_mussic/spectrum_alb_esp1_offset30s_dur3s.png\n",
      "Đã lưu biểu đồ phổ âm thanh tại: bieu_do_pho_am_thanh/classical_mussic/spectrum_bach_846_offset30s_dur3s.png\n",
      "Đã lưu biểu đồ phổ âm thanh tại: bieu_do_pho_am_thanh/classical_mussic/spectrum_grieg_album_offset30s_dur3s.png\n",
      "Đã lưu biểu đồ phổ âm thanh tại: bieu_do_pho_am_thanh/classical_mussic/spectrum_br_im2_offset30s_dur3s.png\n",
      "Đã lưu biểu đồ phổ âm thanh tại: bieu_do_pho_am_thanh/edm_mussic/spectrum_animals_offset115s_dur3s.png\n",
      "Đã lưu biểu đồ phổ âm thanh tại: bieu_do_pho_am_thanh/edm_mussic/spectrum_the_spectre_offset115s_dur3s.png\n",
      "Đã lưu biểu đồ phổ âm thanh tại: bieu_do_pho_am_thanh/edm_mussic/spectrum_move_your_body_offset115s_dur3s.png\n",
      "Đã lưu biểu đồ phổ âm thanh tại: bieu_do_pho_am_thanh/edm_mussic/spectrum_never_be_alone_offset115s_dur3s.png\n",
      "Đã lưu biểu đồ phổ âm thanh tại: bieu_do_pho_am_thanh/edm_mussic/spectrum_faded_offset115s_dur3s.png\n",
      "Đã hoàn thành phân tích và lưu phổ âm thanh cho các file nhạc.\n"
     ]
    }
   ],
   "source": [
    "classic_music_file = os.listdir(\"songs/classical_mussic\")\n",
    "edm_music_file = os.listdir(\"songs/edm_mussic\")\n",
    "for file in classic_music_file:\n",
    "    phan_tich_va_luu_pho_am_thanh(\n",
    "        file_path=os.path.join(\"songs/classical_mussic\", file),\n",
    "        save_dir=\"bieu_do_pho_am_thanh/classical_mussic\",\n",
    "        offset_seconds=30.0,\n",
    "        duration_seconds=3.0,\n",
    "        plot_title_prefix=\"Phổ Nhạc Cổ Điển\"\n",
    "    )\n",
    "for file in edm_music_file:\n",
    "    phan_tich_va_luu_pho_am_thanh(\n",
    "        file_path=os.path.join(\"songs/edm_mussic\", file),\n",
    "        save_dir=\"bieu_do_pho_am_thanh/edm_mussic\",\n",
    "        offset_seconds=115.0,\n",
    "        duration_seconds=3.0,\n",
    "        plot_title_prefix=\"Phổ Nhạc Điện Tử\"\n",
    "    )\n",
    "print(\"Đã hoàn thành phân tích và lưu phổ âm thanh cho các file nhạc.\")"
   ]
  },
  {
   "cell_type": "code",
   "execution_count": null,
   "id": "cee60415",
   "metadata": {},
   "outputs": [],
   "source": []
  }
 ],
 "metadata": {
  "kernelspec": {
   "display_name": "default",
   "language": "python",
   "name": "python3"
  },
  "language_info": {
   "codemirror_mode": {
    "name": "ipython",
    "version": 3
   },
   "file_extension": ".py",
   "mimetype": "text/x-python",
   "name": "python",
   "nbconvert_exporter": "python",
   "pygments_lexer": "ipython3",
   "version": "3.13.2"
  }
 },
 "nbformat": 4,
 "nbformat_minor": 5
}
